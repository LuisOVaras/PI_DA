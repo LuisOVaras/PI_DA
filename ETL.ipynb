{
 "cells": [
  {
   "cell_type": "code",
   "execution_count": 399,
   "metadata": {},
   "outputs": [],
   "source": [
    "import pandas as pd\n",
    "import re"
   ]
  },
  {
   "cell_type": "code",
   "execution_count": 400,
   "metadata": {},
   "outputs": [],
   "source": [
    "#Data Internet\n",
    "\n",
    "#Data Nacional\n",
    "\n",
    "df_nacional_internet_ingresos_trim=pd.read_csv(\"data/Ingresos_trimestrales_prestación_servicio_Internet_fijo.csv\")\n",
    "df_nacional_internet_tipo_trim=pd.read_csv(\"data/Serie_trimestral_accesos_Internet_fijo_por_tecnología.csv\")\n",
    "df_nacional_internet_accesos_velocidad_media_trim=pd.read_csv(\"data\\Velocidad_Media_de_bajada_Internet_fijo.csv\")\n",
    "\n",
    "#Data Provincia\n",
    "\n",
    "df_provincial_internet_accesos_tecnologia_trim=pd.read_csv(\"data/Acceso_Internet_fijo_por_tecnología_y_provincia.csv\")\n",
    "df_provincial_internet_accesos_habitantes_trim=pd.read_csv(\"data/Penetración_de _Internet fijo _(accesos _cada_100 hogares).csv\")\n",
    "df_provincial_internet_accesos_velocidad_media_trim=pd.read_csv(\"data/Velocidad_media_bajada_Internet_fijo_por_provincia.csv\")"
   ]
  },
  {
   "cell_type": "markdown",
   "metadata": {},
   "source": [
    "#### Visualizo como están planteados los datos"
   ]
  },
  {
   "cell_type": "markdown",
   "metadata": {},
   "source": [
    "Nacionales"
   ]
  },
  {
   "cell_type": "code",
   "execution_count": 401,
   "metadata": {},
   "outputs": [
    {
     "data": {
      "text/html": [
       "<div>\n",
       "<style scoped>\n",
       "    .dataframe tbody tr th:only-of-type {\n",
       "        vertical-align: middle;\n",
       "    }\n",
       "\n",
       "    .dataframe tbody tr th {\n",
       "        vertical-align: top;\n",
       "    }\n",
       "\n",
       "    .dataframe thead th {\n",
       "        text-align: right;\n",
       "    }\n",
       "</style>\n",
       "<table border=\"1\" class=\"dataframe\">\n",
       "  <thead>\n",
       "    <tr style=\"text-align: right;\">\n",
       "      <th></th>\n",
       "      <th>Año</th>\n",
       "      <th>Trimestre</th>\n",
       "      <th>Ingresos (miles de pesos)</th>\n",
       "      <th>Periodo</th>\n",
       "    </tr>\n",
       "  </thead>\n",
       "  <tbody>\n",
       "    <tr>\n",
       "      <th>0</th>\n",
       "      <td>2022</td>\n",
       "      <td>1</td>\n",
       "      <td>51.432.896</td>\n",
       "      <td>Ene-Mar 2022</td>\n",
       "    </tr>\n",
       "    <tr>\n",
       "      <th>1</th>\n",
       "      <td>2021</td>\n",
       "      <td>4</td>\n",
       "      <td>45.467.887</td>\n",
       "      <td>Oct-Dic 2021</td>\n",
       "    </tr>\n",
       "    <tr>\n",
       "      <th>2</th>\n",
       "      <td>2021</td>\n",
       "      <td>3</td>\n",
       "      <td>42.999.944</td>\n",
       "      <td>Jul-Sept 2021</td>\n",
       "    </tr>\n",
       "    <tr>\n",
       "      <th>3</th>\n",
       "      <td>2021</td>\n",
       "      <td>2</td>\n",
       "      <td>38.239.667</td>\n",
       "      <td>Abr-Jun 2021</td>\n",
       "    </tr>\n",
       "    <tr>\n",
       "      <th>4</th>\n",
       "      <td>2021</td>\n",
       "      <td>1</td>\n",
       "      <td>36.676.371</td>\n",
       "      <td>Ene-Mar 2021</td>\n",
       "    </tr>\n",
       "  </tbody>\n",
       "</table>\n",
       "</div>"
      ],
      "text/plain": [
       "    Año  Trimestre Ingresos (miles de pesos)        Periodo\n",
       "0  2022          1                51.432.896   Ene-Mar 2022\n",
       "1  2021          4                45.467.887   Oct-Dic 2021\n",
       "2  2021          3                42.999.944  Jul-Sept 2021\n",
       "3  2021          2                38.239.667   Abr-Jun 2021\n",
       "4  2021          1                36.676.371   Ene-Mar 2021"
      ]
     },
     "execution_count": 401,
     "metadata": {},
     "output_type": "execute_result"
    }
   ],
   "source": [
    "df_nacional_internet_ingresos_trim.head()"
   ]
  },
  {
   "cell_type": "code",
   "execution_count": 402,
   "metadata": {},
   "outputs": [
    {
     "name": "stdout",
     "output_type": "stream",
     "text": [
      "<class 'pandas.core.frame.DataFrame'>\n",
      "RangeIndex: 33 entries, 0 to 32\n",
      "Data columns (total 4 columns):\n",
      " #   Column                     Non-Null Count  Dtype \n",
      "---  ------                     --------------  ----- \n",
      " 0   Año                        33 non-null     int64 \n",
      " 1   Trimestre                  33 non-null     int64 \n",
      " 2   Ingresos (miles de pesos)  33 non-null     object\n",
      " 3   Periodo                    33 non-null     object\n",
      "dtypes: int64(2), object(2)\n",
      "memory usage: 1.2+ KB\n"
     ]
    }
   ],
   "source": [
    "df_nacional_internet_ingresos_trim.info()"
   ]
  },
  {
   "cell_type": "code",
   "execution_count": 403,
   "metadata": {},
   "outputs": [
    {
     "data": {
      "text/html": [
       "<div>\n",
       "<style scoped>\n",
       "    .dataframe tbody tr th:only-of-type {\n",
       "        vertical-align: middle;\n",
       "    }\n",
       "\n",
       "    .dataframe tbody tr th {\n",
       "        vertical-align: top;\n",
       "    }\n",
       "\n",
       "    .dataframe thead th {\n",
       "        text-align: right;\n",
       "    }\n",
       "</style>\n",
       "<table border=\"1\" class=\"dataframe\">\n",
       "  <thead>\n",
       "    <tr style=\"text-align: right;\">\n",
       "      <th></th>\n",
       "      <th>Año</th>\n",
       "      <th>Trimestre</th>\n",
       "      <th>ADSL</th>\n",
       "      <th>Cablemodem</th>\n",
       "      <th>Fibra óptica</th>\n",
       "      <th>Wireless</th>\n",
       "      <th>Otros</th>\n",
       "      <th>Total</th>\n",
       "      <th>Periodo</th>\n",
       "    </tr>\n",
       "  </thead>\n",
       "  <tbody>\n",
       "    <tr>\n",
       "      <th>0</th>\n",
       "      <td>2022</td>\n",
       "      <td>1</td>\n",
       "      <td>1.533.240</td>\n",
       "      <td>6.073.426</td>\n",
       "      <td>2.219.533</td>\n",
       "      <td>545.814</td>\n",
       "      <td>251.996</td>\n",
       "      <td>10.624.009</td>\n",
       "      <td>Ene-Mar 2022</td>\n",
       "    </tr>\n",
       "    <tr>\n",
       "      <th>1</th>\n",
       "      <td>2021</td>\n",
       "      <td>4</td>\n",
       "      <td>1.657.615</td>\n",
       "      <td>5.984.240</td>\n",
       "      <td>2.072.236</td>\n",
       "      <td>523.107</td>\n",
       "      <td>252.596</td>\n",
       "      <td>10.489.794</td>\n",
       "      <td>Oct-Dic 2021</td>\n",
       "    </tr>\n",
       "    <tr>\n",
       "      <th>2</th>\n",
       "      <td>2021</td>\n",
       "      <td>3</td>\n",
       "      <td>1.950.631</td>\n",
       "      <td>5.826.257</td>\n",
       "      <td>1.566.048</td>\n",
       "      <td>492.415</td>\n",
       "      <td>250.190</td>\n",
       "      <td>10.085.541</td>\n",
       "      <td>Jul-Sept 2021</td>\n",
       "    </tr>\n",
       "    <tr>\n",
       "      <th>3</th>\n",
       "      <td>2021</td>\n",
       "      <td>2</td>\n",
       "      <td>2.018.587</td>\n",
       "      <td>5.641.731</td>\n",
       "      <td>1.472.246</td>\n",
       "      <td>476.968</td>\n",
       "      <td>253.552</td>\n",
       "      <td>9.863.084</td>\n",
       "      <td>Abr-Jun 2021</td>\n",
       "    </tr>\n",
       "    <tr>\n",
       "      <th>4</th>\n",
       "      <td>2021</td>\n",
       "      <td>1</td>\n",
       "      <td>2.175.211</td>\n",
       "      <td>5.424.782</td>\n",
       "      <td>1.362.976</td>\n",
       "      <td>434.548</td>\n",
       "      <td>250.455</td>\n",
       "      <td>9.647.972</td>\n",
       "      <td>Ene-Mar 2021</td>\n",
       "    </tr>\n",
       "  </tbody>\n",
       "</table>\n",
       "</div>"
      ],
      "text/plain": [
       "    Año  Trimestre       ADSL Cablemodem Fibra óptica  Wireless    Otros  \\\n",
       "0  2022          1  1.533.240  6.073.426    2.219.533   545.814  251.996   \n",
       "1  2021          4  1.657.615  5.984.240    2.072.236   523.107  252.596   \n",
       "2  2021          3  1.950.631  5.826.257    1.566.048   492.415  250.190   \n",
       "3  2021          2  2.018.587  5.641.731    1.472.246   476.968  253.552   \n",
       "4  2021          1  2.175.211  5.424.782    1.362.976   434.548  250.455   \n",
       "\n",
       "        Total        Periodo  \n",
       "0  10.624.009   Ene-Mar 2022  \n",
       "1  10.489.794   Oct-Dic 2021  \n",
       "2  10.085.541  Jul-Sept 2021  \n",
       "3   9.863.084   Abr-Jun 2021  \n",
       "4   9.647.972   Ene-Mar 2021  "
      ]
     },
     "execution_count": 403,
     "metadata": {},
     "output_type": "execute_result"
    }
   ],
   "source": [
    "df_nacional_internet_tipo_trim.head()"
   ]
  },
  {
   "cell_type": "code",
   "execution_count": 404,
   "metadata": {},
   "outputs": [
    {
     "name": "stdout",
     "output_type": "stream",
     "text": [
      "<class 'pandas.core.frame.DataFrame'>\n",
      "RangeIndex: 33 entries, 0 to 32\n",
      "Data columns (total 9 columns):\n",
      " #   Column        Non-Null Count  Dtype  \n",
      "---  ------        --------------  -----  \n",
      " 0   Año           33 non-null     int64  \n",
      " 1   Trimestre     33 non-null     int64  \n",
      " 2   ADSL          33 non-null     object \n",
      " 3   Cablemodem    33 non-null     object \n",
      " 4   Fibra óptica  33 non-null     object \n",
      " 5   Wireless      33 non-null     float64\n",
      " 6   Otros         33 non-null     float64\n",
      " 7   Total         33 non-null     object \n",
      " 8   Periodo       33 non-null     object \n",
      "dtypes: float64(2), int64(2), object(5)\n",
      "memory usage: 2.4+ KB\n"
     ]
    }
   ],
   "source": [
    "df_nacional_internet_tipo_trim.info()"
   ]
  },
  {
   "cell_type": "code",
   "execution_count": 405,
   "metadata": {},
   "outputs": [
    {
     "data": {
      "text/html": [
       "<div>\n",
       "<style scoped>\n",
       "    .dataframe tbody tr th:only-of-type {\n",
       "        vertical-align: middle;\n",
       "    }\n",
       "\n",
       "    .dataframe tbody tr th {\n",
       "        vertical-align: top;\n",
       "    }\n",
       "\n",
       "    .dataframe thead th {\n",
       "        text-align: right;\n",
       "    }\n",
       "</style>\n",
       "<table border=\"1\" class=\"dataframe\">\n",
       "  <thead>\n",
       "    <tr style=\"text-align: right;\">\n",
       "      <th></th>\n",
       "      <th>Año</th>\n",
       "      <th>Trimestre</th>\n",
       "      <th>Mbps (Media de bajada)</th>\n",
       "      <th>Trimestre.1</th>\n",
       "    </tr>\n",
       "  </thead>\n",
       "  <tbody>\n",
       "    <tr>\n",
       "      <th>0</th>\n",
       "      <td>2022</td>\n",
       "      <td>4</td>\n",
       "      <td>10.656</td>\n",
       "      <td>Oct-Dic 2022</td>\n",
       "    </tr>\n",
       "    <tr>\n",
       "      <th>1</th>\n",
       "      <td>2022</td>\n",
       "      <td>3</td>\n",
       "      <td>6.246</td>\n",
       "      <td>Jul-Sept 2022</td>\n",
       "    </tr>\n",
       "    <tr>\n",
       "      <th>2</th>\n",
       "      <td>2022</td>\n",
       "      <td>2</td>\n",
       "      <td>5.844</td>\n",
       "      <td>Abr-Jun 2022</td>\n",
       "    </tr>\n",
       "    <tr>\n",
       "      <th>3</th>\n",
       "      <td>2022</td>\n",
       "      <td>1</td>\n",
       "      <td>5.511</td>\n",
       "      <td>Ene-Mar 2022</td>\n",
       "    </tr>\n",
       "    <tr>\n",
       "      <th>4</th>\n",
       "      <td>2021</td>\n",
       "      <td>4</td>\n",
       "      <td>5.234</td>\n",
       "      <td>Oct-Dic 2021</td>\n",
       "    </tr>\n",
       "  </tbody>\n",
       "</table>\n",
       "</div>"
      ],
      "text/plain": [
       "    Año  Trimestre  Mbps (Media de bajada)    Trimestre.1\n",
       "0  2022          4                  10.656   Oct-Dic 2022\n",
       "1  2022          3                   6.246  Jul-Sept 2022\n",
       "2  2022          2                   5.844   Abr-Jun 2022\n",
       "3  2022          1                   5.511   Ene-Mar 2022\n",
       "4  2021          4                   5.234   Oct-Dic 2021"
      ]
     },
     "execution_count": 405,
     "metadata": {},
     "output_type": "execute_result"
    }
   ],
   "source": [
    "df_nacional_internet_accesos_velocidad_media_trim.head()"
   ]
  },
  {
   "cell_type": "code",
   "execution_count": 406,
   "metadata": {},
   "outputs": [
    {
     "name": "stdout",
     "output_type": "stream",
     "text": [
      "<class 'pandas.core.frame.DataFrame'>\n",
      "RangeIndex: 36 entries, 0 to 35\n",
      "Data columns (total 4 columns):\n",
      " #   Column                  Non-Null Count  Dtype  \n",
      "---  ------                  --------------  -----  \n",
      " 0   Año                     36 non-null     int64  \n",
      " 1   Trimestre               36 non-null     int64  \n",
      " 2   Mbps (Media de bajada)  36 non-null     float64\n",
      " 3   Trimestre.1             36 non-null     object \n",
      "dtypes: float64(1), int64(2), object(1)\n",
      "memory usage: 1.3+ KB\n"
     ]
    }
   ],
   "source": [
    "df_nacional_internet_accesos_velocidad_media_trim.info()"
   ]
  },
  {
   "cell_type": "markdown",
   "metadata": {},
   "source": [
    "Provinciales"
   ]
  },
  {
   "cell_type": "code",
   "execution_count": 407,
   "metadata": {},
   "outputs": [
    {
     "data": {
      "text/html": [
       "<div>\n",
       "<style scoped>\n",
       "    .dataframe tbody tr th:only-of-type {\n",
       "        vertical-align: middle;\n",
       "    }\n",
       "\n",
       "    .dataframe tbody tr th {\n",
       "        vertical-align: top;\n",
       "    }\n",
       "\n",
       "    .dataframe thead th {\n",
       "        text-align: right;\n",
       "    }\n",
       "</style>\n",
       "<table border=\"1\" class=\"dataframe\">\n",
       "  <thead>\n",
       "    <tr style=\"text-align: right;\">\n",
       "      <th></th>\n",
       "      <th>Año</th>\n",
       "      <th>Trimestre</th>\n",
       "      <th>Provincia</th>\n",
       "      <th>ADSL</th>\n",
       "      <th>Cablemodem</th>\n",
       "      <th>Fibra óptica</th>\n",
       "      <th>Wireless</th>\n",
       "      <th>Otros</th>\n",
       "      <th>Total</th>\n",
       "    </tr>\n",
       "  </thead>\n",
       "  <tbody>\n",
       "    <tr>\n",
       "      <th>0</th>\n",
       "      <td>2022</td>\n",
       "      <td>1</td>\n",
       "      <td>Buenos Aires</td>\n",
       "      <td>392.045</td>\n",
       "      <td>2.728.865</td>\n",
       "      <td>1.242.121</td>\n",
       "      <td>125.521</td>\n",
       "      <td>66.872</td>\n",
       "      <td>4.555.424</td>\n",
       "    </tr>\n",
       "    <tr>\n",
       "      <th>1</th>\n",
       "      <td>2022</td>\n",
       "      <td>1</td>\n",
       "      <td>Capital Federal</td>\n",
       "      <td>102.290</td>\n",
       "      <td>1.217.225</td>\n",
       "      <td>62.308</td>\n",
       "      <td>5.784</td>\n",
       "      <td>29.934</td>\n",
       "      <td>1.417.541</td>\n",
       "    </tr>\n",
       "    <tr>\n",
       "      <th>2</th>\n",
       "      <td>2022</td>\n",
       "      <td>1</td>\n",
       "      <td>Catamarca</td>\n",
       "      <td>14.181</td>\n",
       "      <td>15.517</td>\n",
       "      <td>29.118</td>\n",
       "      <td>1.328</td>\n",
       "      <td>2.234</td>\n",
       "      <td>62.378</td>\n",
       "    </tr>\n",
       "    <tr>\n",
       "      <th>3</th>\n",
       "      <td>2022</td>\n",
       "      <td>1</td>\n",
       "      <td>Chaco</td>\n",
       "      <td>32.391</td>\n",
       "      <td>64.546</td>\n",
       "      <td>36.662</td>\n",
       "      <td>8.164</td>\n",
       "      <td>2.356</td>\n",
       "      <td>144.119</td>\n",
       "    </tr>\n",
       "    <tr>\n",
       "      <th>4</th>\n",
       "      <td>2022</td>\n",
       "      <td>1</td>\n",
       "      <td>Chubut</td>\n",
       "      <td>44.133</td>\n",
       "      <td>66.667</td>\n",
       "      <td>9.184</td>\n",
       "      <td>30.592</td>\n",
       "      <td>21.052</td>\n",
       "      <td>171.628</td>\n",
       "    </tr>\n",
       "  </tbody>\n",
       "</table>\n",
       "</div>"
      ],
      "text/plain": [
       "    Año Trimestre        Provincia     ADSL Cablemodem Fibra óptica Wireless  \\\n",
       "0  2022         1     Buenos Aires  392.045  2.728.865    1.242.121  125.521   \n",
       "1  2022         1  Capital Federal  102.290  1.217.225       62.308    5.784   \n",
       "2  2022         1        Catamarca   14.181     15.517       29.118    1.328   \n",
       "3  2022         1            Chaco   32.391     64.546       36.662    8.164   \n",
       "4  2022         1           Chubut   44.133     66.667        9.184   30.592   \n",
       "\n",
       "    Otros      Total  \n",
       "0  66.872  4.555.424  \n",
       "1  29.934  1.417.541  \n",
       "2   2.234     62.378  \n",
       "3   2.356    144.119  \n",
       "4  21.052    171.628  "
      ]
     },
     "execution_count": 407,
     "metadata": {},
     "output_type": "execute_result"
    }
   ],
   "source": [
    "df_provincial_internet_accesos_tecnologia_trim.head()"
   ]
  },
  {
   "cell_type": "code",
   "execution_count": 408,
   "metadata": {},
   "outputs": [
    {
     "name": "stdout",
     "output_type": "stream",
     "text": [
      "<class 'pandas.core.frame.DataFrame'>\n",
      "RangeIndex: 793 entries, 0 to 792\n",
      "Data columns (total 9 columns):\n",
      " #   Column        Non-Null Count  Dtype  \n",
      "---  ------        --------------  -----  \n",
      " 0   Año           793 non-null    object \n",
      " 1   Trimestre     793 non-null    object \n",
      " 2   Provincia     792 non-null    object \n",
      " 3   ADSL          792 non-null    object \n",
      " 4   Cablemodem    792 non-null    object \n",
      " 5   Fibra óptica  792 non-null    object \n",
      " 6   Wireless      792 non-null    object \n",
      " 7   Otros         792 non-null    float64\n",
      " 8   Total         792 non-null    object \n",
      "dtypes: float64(1), object(8)\n",
      "memory usage: 55.9+ KB\n"
     ]
    }
   ],
   "source": [
    "df_provincial_internet_accesos_tecnologia_trim.info()"
   ]
  },
  {
   "cell_type": "code",
   "execution_count": 409,
   "metadata": {},
   "outputs": [
    {
     "data": {
      "text/html": [
       "<div>\n",
       "<style scoped>\n",
       "    .dataframe tbody tr th:only-of-type {\n",
       "        vertical-align: middle;\n",
       "    }\n",
       "\n",
       "    .dataframe tbody tr th {\n",
       "        vertical-align: top;\n",
       "    }\n",
       "\n",
       "    .dataframe thead th {\n",
       "        text-align: right;\n",
       "    }\n",
       "</style>\n",
       "<table border=\"1\" class=\"dataframe\">\n",
       "  <thead>\n",
       "    <tr style=\"text-align: right;\">\n",
       "      <th></th>\n",
       "      <th>Año</th>\n",
       "      <th>Trimestre</th>\n",
       "      <th>Provincia</th>\n",
       "      <th>Accesos por cada 100 hogares</th>\n",
       "    </tr>\n",
       "  </thead>\n",
       "  <tbody>\n",
       "    <tr>\n",
       "      <th>0</th>\n",
       "      <td>2022</td>\n",
       "      <td>1</td>\n",
       "      <td>Buenos Aires</td>\n",
       "      <td>76,08</td>\n",
       "    </tr>\n",
       "    <tr>\n",
       "      <th>1</th>\n",
       "      <td>2022</td>\n",
       "      <td>1</td>\n",
       "      <td>Capital Federal</td>\n",
       "      <td>111,8</td>\n",
       "    </tr>\n",
       "    <tr>\n",
       "      <th>2</th>\n",
       "      <td>2022</td>\n",
       "      <td>1</td>\n",
       "      <td>Catamarca</td>\n",
       "      <td>58,21</td>\n",
       "    </tr>\n",
       "    <tr>\n",
       "      <th>3</th>\n",
       "      <td>2022</td>\n",
       "      <td>1</td>\n",
       "      <td>Chaco</td>\n",
       "      <td>44,06</td>\n",
       "    </tr>\n",
       "    <tr>\n",
       "      <th>4</th>\n",
       "      <td>2022</td>\n",
       "      <td>1</td>\n",
       "      <td>Chubut</td>\n",
       "      <td>88,05</td>\n",
       "    </tr>\n",
       "  </tbody>\n",
       "</table>\n",
       "</div>"
      ],
      "text/plain": [
       "    Año  Trimestre        Provincia Accesos por cada 100 hogares\n",
       "0  2022          1     Buenos Aires                        76,08\n",
       "1  2022          1  Capital Federal                        111,8\n",
       "2  2022          1        Catamarca                        58,21\n",
       "3  2022          1            Chaco                        44,06\n",
       "4  2022          1           Chubut                        88,05"
      ]
     },
     "execution_count": 409,
     "metadata": {},
     "output_type": "execute_result"
    }
   ],
   "source": [
    "df_provincial_internet_accesos_habitantes_trim.head()"
   ]
  },
  {
   "cell_type": "code",
   "execution_count": 410,
   "metadata": {},
   "outputs": [
    {
     "name": "stdout",
     "output_type": "stream",
     "text": [
      "<class 'pandas.core.frame.DataFrame'>\n",
      "RangeIndex: 792 entries, 0 to 791\n",
      "Data columns (total 4 columns):\n",
      " #   Column                        Non-Null Count  Dtype \n",
      "---  ------                        --------------  ----- \n",
      " 0   Año                           792 non-null    int64 \n",
      " 1   Trimestre                     792 non-null    int64 \n",
      " 2   Provincia                     792 non-null    object\n",
      " 3   Accesos por cada 100 hogares  792 non-null    object\n",
      "dtypes: int64(2), object(2)\n",
      "memory usage: 24.9+ KB\n"
     ]
    }
   ],
   "source": [
    "df_provincial_internet_accesos_habitantes_trim.info()"
   ]
  },
  {
   "cell_type": "code",
   "execution_count": 411,
   "metadata": {},
   "outputs": [
    {
     "data": {
      "text/html": [
       "<div>\n",
       "<style scoped>\n",
       "    .dataframe tbody tr th:only-of-type {\n",
       "        vertical-align: middle;\n",
       "    }\n",
       "\n",
       "    .dataframe tbody tr th {\n",
       "        vertical-align: top;\n",
       "    }\n",
       "\n",
       "    .dataframe thead th {\n",
       "        text-align: right;\n",
       "    }\n",
       "</style>\n",
       "<table border=\"1\" class=\"dataframe\">\n",
       "  <thead>\n",
       "    <tr style=\"text-align: right;\">\n",
       "      <th></th>\n",
       "      <th>Año</th>\n",
       "      <th>Trimestre</th>\n",
       "      <th>Provincia</th>\n",
       "      <th>Mbps (Media de bajada)</th>\n",
       "    </tr>\n",
       "  </thead>\n",
       "  <tbody>\n",
       "    <tr>\n",
       "      <th>0</th>\n",
       "      <td>2022</td>\n",
       "      <td>4</td>\n",
       "      <td>Buenos Aires</td>\n",
       "      <td>111.000</td>\n",
       "    </tr>\n",
       "    <tr>\n",
       "      <th>1</th>\n",
       "      <td>2022</td>\n",
       "      <td>4</td>\n",
       "      <td>Capital Federal</td>\n",
       "      <td>18.286</td>\n",
       "    </tr>\n",
       "    <tr>\n",
       "      <th>2</th>\n",
       "      <td>2022</td>\n",
       "      <td>4</td>\n",
       "      <td>Catamarca</td>\n",
       "      <td>8.333</td>\n",
       "    </tr>\n",
       "    <tr>\n",
       "      <th>3</th>\n",
       "      <td>2022</td>\n",
       "      <td>4</td>\n",
       "      <td>Chaco</td>\n",
       "      <td>10.402</td>\n",
       "    </tr>\n",
       "    <tr>\n",
       "      <th>4</th>\n",
       "      <td>2022</td>\n",
       "      <td>4</td>\n",
       "      <td>Chubut</td>\n",
       "      <td>1.592</td>\n",
       "    </tr>\n",
       "  </tbody>\n",
       "</table>\n",
       "</div>"
      ],
      "text/plain": [
       "    Año  Trimestre        Provincia  Mbps (Media de bajada)\n",
       "0  2022          4     Buenos Aires                 111.000\n",
       "1  2022          4  Capital Federal                  18.286\n",
       "2  2022          4        Catamarca                   8.333\n",
       "3  2022          4            Chaco                  10.402\n",
       "4  2022          4           Chubut                   1.592"
      ]
     },
     "execution_count": 411,
     "metadata": {},
     "output_type": "execute_result"
    }
   ],
   "source": [
    "df_provincial_internet_accesos_velocidad_media_trim.head()"
   ]
  },
  {
   "cell_type": "code",
   "execution_count": 412,
   "metadata": {},
   "outputs": [
    {
     "name": "stdout",
     "output_type": "stream",
     "text": [
      "<class 'pandas.core.frame.DataFrame'>\n",
      "RangeIndex: 864 entries, 0 to 863\n",
      "Data columns (total 4 columns):\n",
      " #   Column                  Non-Null Count  Dtype  \n",
      "---  ------                  --------------  -----  \n",
      " 0   Año                     864 non-null    int64  \n",
      " 1   Trimestre               864 non-null    int64  \n",
      " 2   Provincia               864 non-null    object \n",
      " 3   Mbps (Media de bajada)  864 non-null    float64\n",
      "dtypes: float64(1), int64(2), object(1)\n",
      "memory usage: 27.1+ KB\n"
     ]
    }
   ],
   "source": [
    "df_provincial_internet_accesos_velocidad_media_trim.info()"
   ]
  },
  {
   "cell_type": "markdown",
   "metadata": {},
   "source": [
    "### Transformación de datos"
   ]
  },
  {
   "cell_type": "markdown",
   "metadata": {},
   "source": [
    "df_nacional_internet_ingresos_trim"
   ]
  },
  {
   "cell_type": "code",
   "execution_count": 413,
   "metadata": {},
   "outputs": [
    {
     "name": "stdout",
     "output_type": "stream",
     "text": [
      "<class 'pandas.core.frame.DataFrame'>\n",
      "RangeIndex: 33 entries, 0 to 32\n",
      "Data columns (total 4 columns):\n",
      " #   Column                     Non-Null Count  Dtype \n",
      "---  ------                     --------------  ----- \n",
      " 0   Año                        33 non-null     int64 \n",
      " 1   Trimestre                  33 non-null     int64 \n",
      " 2   Ingresos (miles de pesos)  33 non-null     object\n",
      " 3   Periodo                    33 non-null     object\n",
      "dtypes: int64(2), object(2)\n",
      "memory usage: 1.2+ KB\n"
     ]
    }
   ],
   "source": [
    "df_nacional_internet_ingresos_trim.info()"
   ]
  },
  {
   "cell_type": "markdown",
   "metadata": {},
   "source": [
    "Necesito cambiar el tipo de dato de Ingresos (miles de pesos)"
   ]
  },
  {
   "cell_type": "code",
   "execution_count": 414,
   "metadata": {},
   "outputs": [],
   "source": [
    "#Eliminar los puntos de la columna Ingresos (miles de pesos)\n",
    "df_nacional_internet_ingresos_trim['Ingresos (miles de pesos)'] = df_nacional_internet_ingresos_trim['Ingresos (miles de pesos)'].str.replace('.', '')"
   ]
  },
  {
   "cell_type": "code",
   "execution_count": 415,
   "metadata": {},
   "outputs": [
    {
     "name": "stdout",
     "output_type": "stream",
     "text": [
      "Año                           int64\n",
      "Trimestre                     int64\n",
      "Ingresos (miles de pesos)     int32\n",
      "Periodo                      object\n",
      "dtype: object\n"
     ]
    }
   ],
   "source": [
    "# Convertir la columna \"Ingresos (miles de pesos)\" a tipo entero\n",
    "df_nacional_internet_ingresos_trim['Ingresos (miles de pesos)'] = df_nacional_internet_ingresos_trim['Ingresos (miles de pesos)'].astype(int)\n",
    "# Verificar el DataFrame después de la conversión\n",
    "print(df_nacional_internet_ingresos_trim.dtypes)"
   ]
  },
  {
   "cell_type": "code",
   "execution_count": 416,
   "metadata": {},
   "outputs": [],
   "source": [
    "# Eliminamos la columna \"periodo\" por que no es relevante\n",
    "df_nacional_internet_ingresos_trim = df_nacional_internet_ingresos_trim.drop(columns=['Periodo'])"
   ]
  },
  {
   "cell_type": "code",
   "execution_count": 417,
   "metadata": {},
   "outputs": [
    {
     "data": {
      "text/html": [
       "<div>\n",
       "<style scoped>\n",
       "    .dataframe tbody tr th:only-of-type {\n",
       "        vertical-align: middle;\n",
       "    }\n",
       "\n",
       "    .dataframe tbody tr th {\n",
       "        vertical-align: top;\n",
       "    }\n",
       "\n",
       "    .dataframe thead th {\n",
       "        text-align: right;\n",
       "    }\n",
       "</style>\n",
       "<table border=\"1\" class=\"dataframe\">\n",
       "  <thead>\n",
       "    <tr style=\"text-align: right;\">\n",
       "      <th></th>\n",
       "      <th>Año</th>\n",
       "      <th>Trimestre</th>\n",
       "      <th>Ingresos (miles de pesos)</th>\n",
       "    </tr>\n",
       "  </thead>\n",
       "  <tbody>\n",
       "    <tr>\n",
       "      <th>0</th>\n",
       "      <td>2022</td>\n",
       "      <td>1</td>\n",
       "      <td>51432896</td>\n",
       "    </tr>\n",
       "    <tr>\n",
       "      <th>1</th>\n",
       "      <td>2021</td>\n",
       "      <td>4</td>\n",
       "      <td>45467887</td>\n",
       "    </tr>\n",
       "    <tr>\n",
       "      <th>2</th>\n",
       "      <td>2021</td>\n",
       "      <td>3</td>\n",
       "      <td>42999944</td>\n",
       "    </tr>\n",
       "    <tr>\n",
       "      <th>3</th>\n",
       "      <td>2021</td>\n",
       "      <td>2</td>\n",
       "      <td>38239667</td>\n",
       "    </tr>\n",
       "    <tr>\n",
       "      <th>4</th>\n",
       "      <td>2021</td>\n",
       "      <td>1</td>\n",
       "      <td>36676371</td>\n",
       "    </tr>\n",
       "  </tbody>\n",
       "</table>\n",
       "</div>"
      ],
      "text/plain": [
       "    Año  Trimestre  Ingresos (miles de pesos)\n",
       "0  2022          1                   51432896\n",
       "1  2021          4                   45467887\n",
       "2  2021          3                   42999944\n",
       "3  2021          2                   38239667\n",
       "4  2021          1                   36676371"
      ]
     },
     "execution_count": 417,
     "metadata": {},
     "output_type": "execute_result"
    }
   ],
   "source": [
    "df_nacional_internet_ingresos_trim.head()"
   ]
  },
  {
   "cell_type": "code",
   "execution_count": 418,
   "metadata": {},
   "outputs": [
    {
     "name": "stdout",
     "output_type": "stream",
     "text": [
      "<class 'pandas.core.frame.DataFrame'>\n",
      "RangeIndex: 33 entries, 0 to 32\n",
      "Data columns (total 3 columns):\n",
      " #   Column                     Non-Null Count  Dtype\n",
      "---  ------                     --------------  -----\n",
      " 0   Año                        33 non-null     int64\n",
      " 1   Trimestre                  33 non-null     int64\n",
      " 2   Ingresos (miles de pesos)  33 non-null     int32\n",
      "dtypes: int32(1), int64(2)\n",
      "memory usage: 792.0 bytes\n"
     ]
    }
   ],
   "source": [
    "df_nacional_internet_ingresos_trim.info()"
   ]
  },
  {
   "cell_type": "markdown",
   "metadata": {},
   "source": [
    "Ahora hago lo mismo con los demás datasets"
   ]
  },
  {
   "cell_type": "markdown",
   "metadata": {},
   "source": [
    "df_nacional_internet_tipo_trim"
   ]
  },
  {
   "cell_type": "code",
   "execution_count": 419,
   "metadata": {},
   "outputs": [
    {
     "name": "stdout",
     "output_type": "stream",
     "text": [
      "<class 'pandas.core.frame.DataFrame'>\n",
      "RangeIndex: 33 entries, 0 to 32\n",
      "Data columns (total 9 columns):\n",
      " #   Column        Non-Null Count  Dtype  \n",
      "---  ------        --------------  -----  \n",
      " 0   Año           33 non-null     int64  \n",
      " 1   Trimestre     33 non-null     int64  \n",
      " 2   ADSL          33 non-null     object \n",
      " 3   Cablemodem    33 non-null     object \n",
      " 4   Fibra óptica  33 non-null     object \n",
      " 5   Wireless      33 non-null     float64\n",
      " 6   Otros         33 non-null     float64\n",
      " 7   Total         33 non-null     object \n",
      " 8   Periodo       33 non-null     object \n",
      "dtypes: float64(2), int64(2), object(5)\n",
      "memory usage: 2.4+ KB\n"
     ]
    }
   ],
   "source": [
    "df_nacional_internet_tipo_trim.info()"
   ]
  },
  {
   "cell_type": "code",
   "execution_count": 420,
   "metadata": {},
   "outputs": [],
   "source": [
    "#Eliminar los puntos \n",
    "df_nacional_internet_tipo_trim['ADSL'] = df_nacional_internet_tipo_trim['ADSL'].str.replace('.','')\n",
    "\n",
    "df_nacional_internet_tipo_trim['Cablemodem'] = df_nacional_internet_tipo_trim['Cablemodem'].str.replace('.','')\n",
    "\n",
    "df_nacional_internet_tipo_trim['Fibra óptica'] = df_nacional_internet_tipo_trim['Fibra óptica'].str.replace('.','')\n",
    "\n",
    "df_nacional_internet_tipo_trim['Total'] = df_nacional_internet_tipo_trim['Total'].str.replace('.','')\n",
    "\n",
    "df_nacional_internet_tipo_trim['Wireless'] = df_nacional_internet_tipo_trim['Wireless'].replace('.','')\n",
    "\n",
    "df_nacional_internet_tipo_trim['Otros'] = df_nacional_internet_tipo_trim['Otros'].replace('.','')"
   ]
  },
  {
   "cell_type": "code",
   "execution_count": 421,
   "metadata": {},
   "outputs": [
    {
     "name": "stdout",
     "output_type": "stream",
     "text": [
      "Año              int64\n",
      "Trimestre        int64\n",
      "ADSL             int32\n",
      "Cablemodem       int32\n",
      "Fibra óptica     int32\n",
      "Wireless         int32\n",
      "Otros            int32\n",
      "Total            int32\n",
      "Periodo         object\n",
      "dtype: object\n"
     ]
    }
   ],
   "source": [
    "#Convertir a tipo Int\n",
    "df_nacional_internet_tipo_trim['ADSL'] = df_nacional_internet_tipo_trim['ADSL'].astype(int)\n",
    "\n",
    "df_nacional_internet_tipo_trim['Cablemodem'] = df_nacional_internet_tipo_trim['Cablemodem'].astype(int)\n",
    "\n",
    "df_nacional_internet_tipo_trim['Fibra óptica'] = df_nacional_internet_tipo_trim['Fibra óptica'].astype(int)\n",
    "\n",
    "df_nacional_internet_tipo_trim['Total'] = df_nacional_internet_tipo_trim['Total'].astype(int)\n",
    "\n",
    "df_nacional_internet_tipo_trim['Wireless'] = df_nacional_internet_tipo_trim['Wireless'].astype(int)\n",
    "\n",
    "df_nacional_internet_tipo_trim['Otros'] = df_nacional_internet_tipo_trim['Otros'].astype(int)\n",
    "\n",
    "# Verificar el DataFrame después de la conversión\n",
    "print(df_nacional_internet_tipo_trim.dtypes)"
   ]
  },
  {
   "cell_type": "code",
   "execution_count": 422,
   "metadata": {},
   "outputs": [],
   "source": [
    "# Eliminar la columna \"periodo\"\n",
    "df_nacional_internet_tipo_trim = df_nacional_internet_tipo_trim.drop(columns=['Periodo'])"
   ]
  },
  {
   "cell_type": "code",
   "execution_count": 423,
   "metadata": {},
   "outputs": [
    {
     "data": {
      "text/html": [
       "<div>\n",
       "<style scoped>\n",
       "    .dataframe tbody tr th:only-of-type {\n",
       "        vertical-align: middle;\n",
       "    }\n",
       "\n",
       "    .dataframe tbody tr th {\n",
       "        vertical-align: top;\n",
       "    }\n",
       "\n",
       "    .dataframe thead th {\n",
       "        text-align: right;\n",
       "    }\n",
       "</style>\n",
       "<table border=\"1\" class=\"dataframe\">\n",
       "  <thead>\n",
       "    <tr style=\"text-align: right;\">\n",
       "      <th></th>\n",
       "      <th>Año</th>\n",
       "      <th>Trimestre</th>\n",
       "      <th>ADSL</th>\n",
       "      <th>Cablemodem</th>\n",
       "      <th>Fibra óptica</th>\n",
       "      <th>Wireless</th>\n",
       "      <th>Otros</th>\n",
       "      <th>Total</th>\n",
       "    </tr>\n",
       "  </thead>\n",
       "  <tbody>\n",
       "    <tr>\n",
       "      <th>0</th>\n",
       "      <td>2022</td>\n",
       "      <td>1</td>\n",
       "      <td>1533240</td>\n",
       "      <td>6073426</td>\n",
       "      <td>2219533</td>\n",
       "      <td>545</td>\n",
       "      <td>251</td>\n",
       "      <td>10624009</td>\n",
       "    </tr>\n",
       "    <tr>\n",
       "      <th>1</th>\n",
       "      <td>2021</td>\n",
       "      <td>4</td>\n",
       "      <td>1657615</td>\n",
       "      <td>5984240</td>\n",
       "      <td>2072236</td>\n",
       "      <td>523</td>\n",
       "      <td>252</td>\n",
       "      <td>10489794</td>\n",
       "    </tr>\n",
       "    <tr>\n",
       "      <th>2</th>\n",
       "      <td>2021</td>\n",
       "      <td>3</td>\n",
       "      <td>1950631</td>\n",
       "      <td>5826257</td>\n",
       "      <td>1566048</td>\n",
       "      <td>492</td>\n",
       "      <td>250</td>\n",
       "      <td>10085541</td>\n",
       "    </tr>\n",
       "    <tr>\n",
       "      <th>3</th>\n",
       "      <td>2021</td>\n",
       "      <td>2</td>\n",
       "      <td>2018587</td>\n",
       "      <td>5641731</td>\n",
       "      <td>1472246</td>\n",
       "      <td>476</td>\n",
       "      <td>253</td>\n",
       "      <td>9863084</td>\n",
       "    </tr>\n",
       "    <tr>\n",
       "      <th>4</th>\n",
       "      <td>2021</td>\n",
       "      <td>1</td>\n",
       "      <td>2175211</td>\n",
       "      <td>5424782</td>\n",
       "      <td>1362976</td>\n",
       "      <td>434</td>\n",
       "      <td>250</td>\n",
       "      <td>9647972</td>\n",
       "    </tr>\n",
       "  </tbody>\n",
       "</table>\n",
       "</div>"
      ],
      "text/plain": [
       "    Año  Trimestre     ADSL  Cablemodem  Fibra óptica  Wireless  Otros  \\\n",
       "0  2022          1  1533240     6073426       2219533       545    251   \n",
       "1  2021          4  1657615     5984240       2072236       523    252   \n",
       "2  2021          3  1950631     5826257       1566048       492    250   \n",
       "3  2021          2  2018587     5641731       1472246       476    253   \n",
       "4  2021          1  2175211     5424782       1362976       434    250   \n",
       "\n",
       "      Total  \n",
       "0  10624009  \n",
       "1  10489794  \n",
       "2  10085541  \n",
       "3   9863084  \n",
       "4   9647972  "
      ]
     },
     "execution_count": 423,
     "metadata": {},
     "output_type": "execute_result"
    }
   ],
   "source": [
    "df_nacional_internet_tipo_trim.head()"
   ]
  },
  {
   "cell_type": "code",
   "execution_count": 424,
   "metadata": {},
   "outputs": [
    {
     "name": "stdout",
     "output_type": "stream",
     "text": [
      "<class 'pandas.core.frame.DataFrame'>\n",
      "RangeIndex: 33 entries, 0 to 32\n",
      "Data columns (total 8 columns):\n",
      " #   Column        Non-Null Count  Dtype\n",
      "---  ------        --------------  -----\n",
      " 0   Año           33 non-null     int64\n",
      " 1   Trimestre     33 non-null     int64\n",
      " 2   ADSL          33 non-null     int32\n",
      " 3   Cablemodem    33 non-null     int32\n",
      " 4   Fibra óptica  33 non-null     int32\n",
      " 5   Wireless      33 non-null     int32\n",
      " 6   Otros         33 non-null     int32\n",
      " 7   Total         33 non-null     int32\n",
      "dtypes: int32(6), int64(2)\n",
      "memory usage: 1.4 KB\n"
     ]
    }
   ],
   "source": [
    "df_nacional_internet_tipo_trim.info()"
   ]
  },
  {
   "cell_type": "markdown",
   "metadata": {},
   "source": [
    "df_nacional_internet_accesos_velocidad_media_trim"
   ]
  },
  {
   "cell_type": "code",
   "execution_count": 425,
   "metadata": {},
   "outputs": [
    {
     "name": "stdout",
     "output_type": "stream",
     "text": [
      "<class 'pandas.core.frame.DataFrame'>\n",
      "RangeIndex: 36 entries, 0 to 35\n",
      "Data columns (total 4 columns):\n",
      " #   Column                  Non-Null Count  Dtype  \n",
      "---  ------                  --------------  -----  \n",
      " 0   Año                     36 non-null     int64  \n",
      " 1   Trimestre               36 non-null     int64  \n",
      " 2   Mbps (Media de bajada)  36 non-null     float64\n",
      " 3   Trimestre.1             36 non-null     object \n",
      "dtypes: float64(1), int64(2), object(1)\n",
      "memory usage: 1.3+ KB\n"
     ]
    }
   ],
   "source": [
    "df_nacional_internet_accesos_velocidad_media_trim.info()"
   ]
  },
  {
   "cell_type": "code",
   "execution_count": 426,
   "metadata": {},
   "outputs": [],
   "source": [
    "# Eliminar la columna Trimestre.1\n",
    "df_nacional_internet_accesos_velocidad_media_trim.drop(columns=['Trimestre.1'], inplace=True)"
   ]
  },
  {
   "cell_type": "code",
   "execution_count": 427,
   "metadata": {},
   "outputs": [
    {
     "data": {
      "text/html": [
       "<div>\n",
       "<style scoped>\n",
       "    .dataframe tbody tr th:only-of-type {\n",
       "        vertical-align: middle;\n",
       "    }\n",
       "\n",
       "    .dataframe tbody tr th {\n",
       "        vertical-align: top;\n",
       "    }\n",
       "\n",
       "    .dataframe thead th {\n",
       "        text-align: right;\n",
       "    }\n",
       "</style>\n",
       "<table border=\"1\" class=\"dataframe\">\n",
       "  <thead>\n",
       "    <tr style=\"text-align: right;\">\n",
       "      <th></th>\n",
       "      <th>Año</th>\n",
       "      <th>Trimestre</th>\n",
       "      <th>Mbps (Media de bajada)</th>\n",
       "    </tr>\n",
       "  </thead>\n",
       "  <tbody>\n",
       "    <tr>\n",
       "      <th>0</th>\n",
       "      <td>2022</td>\n",
       "      <td>4</td>\n",
       "      <td>10.656</td>\n",
       "    </tr>\n",
       "    <tr>\n",
       "      <th>1</th>\n",
       "      <td>2022</td>\n",
       "      <td>3</td>\n",
       "      <td>6.246</td>\n",
       "    </tr>\n",
       "    <tr>\n",
       "      <th>2</th>\n",
       "      <td>2022</td>\n",
       "      <td>2</td>\n",
       "      <td>5.844</td>\n",
       "    </tr>\n",
       "    <tr>\n",
       "      <th>3</th>\n",
       "      <td>2022</td>\n",
       "      <td>1</td>\n",
       "      <td>5.511</td>\n",
       "    </tr>\n",
       "    <tr>\n",
       "      <th>4</th>\n",
       "      <td>2021</td>\n",
       "      <td>4</td>\n",
       "      <td>5.234</td>\n",
       "    </tr>\n",
       "  </tbody>\n",
       "</table>\n",
       "</div>"
      ],
      "text/plain": [
       "    Año  Trimestre  Mbps (Media de bajada)\n",
       "0  2022          4                  10.656\n",
       "1  2022          3                   6.246\n",
       "2  2022          2                   5.844\n",
       "3  2022          1                   5.511\n",
       "4  2021          4                   5.234"
      ]
     },
     "execution_count": 427,
     "metadata": {},
     "output_type": "execute_result"
    }
   ],
   "source": [
    "df_nacional_internet_accesos_velocidad_media_trim.head()"
   ]
  },
  {
   "cell_type": "markdown",
   "metadata": {},
   "source": [
    "df_provincial_internet_accesos_tecnologia_trim"
   ]
  },
  {
   "cell_type": "code",
   "execution_count": 428,
   "metadata": {},
   "outputs": [
    {
     "name": "stdout",
     "output_type": "stream",
     "text": [
      "<class 'pandas.core.frame.DataFrame'>\n",
      "RangeIndex: 793 entries, 0 to 792\n",
      "Data columns (total 9 columns):\n",
      " #   Column        Non-Null Count  Dtype  \n",
      "---  ------        --------------  -----  \n",
      " 0   Año           793 non-null    object \n",
      " 1   Trimestre     793 non-null    object \n",
      " 2   Provincia     792 non-null    object \n",
      " 3   ADSL          792 non-null    object \n",
      " 4   Cablemodem    792 non-null    object \n",
      " 5   Fibra óptica  792 non-null    object \n",
      " 6   Wireless      792 non-null    object \n",
      " 7   Otros         792 non-null    float64\n",
      " 8   Total         792 non-null    object \n",
      "dtypes: float64(1), object(8)\n",
      "memory usage: 55.9+ KB\n"
     ]
    }
   ],
   "source": [
    "df_provincial_internet_accesos_tecnologia_trim.info()"
   ]
  },
  {
   "cell_type": "code",
   "execution_count": 429,
   "metadata": {},
   "outputs": [],
   "source": [
    "#Eliminar los puntos \n",
    "df_provincial_internet_accesos_tecnologia_trim['ADSL'] = df_provincial_internet_accesos_tecnologia_trim['ADSL'].str.replace('.','')\n",
    "\n",
    "df_provincial_internet_accesos_tecnologia_trim['Cablemodem'] = df_provincial_internet_accesos_tecnologia_trim['Cablemodem'].str.replace('.','')\n",
    "\n",
    "df_provincial_internet_accesos_tecnologia_trim['Fibra óptica'] = df_provincial_internet_accesos_tecnologia_trim['Fibra óptica'].str.replace('.','')\n",
    "\n",
    "df_provincial_internet_accesos_tecnologia_trim['Wireless'] = df_provincial_internet_accesos_tecnologia_trim['Wireless'].replace('\\.', '', regex=True)\n",
    "\n",
    "df_provincial_internet_accesos_tecnologia_trim['Total'] = df_provincial_internet_accesos_tecnologia_trim['Total'].replace('\\.', '', regex=True)\n"
   ]
  },
  {
   "cell_type": "code",
   "execution_count": 430,
   "metadata": {},
   "outputs": [],
   "source": [
    "# Convertir la columna 'Otros' a tipo string (str)\n",
    "df_provincial_internet_accesos_tecnologia_trim['Otros'] = df_provincial_internet_accesos_tecnologia_trim['Otros'].astype(str)\n",
    "\n",
    "# Eliminar los puntos y las comas de la columna 'Otros'\n",
    "df_provincial_internet_accesos_tecnologia_trim['Otros'] = df_provincial_internet_accesos_tecnologia_trim['Otros'].str.replace('[,.]', '', regex=True)"
   ]
  },
  {
   "cell_type": "code",
   "execution_count": 431,
   "metadata": {},
   "outputs": [
    {
     "name": "stdout",
     "output_type": "stream",
     "text": [
      "Año             object\n",
      "Trimestre       object\n",
      "Provincia       object\n",
      "ADSL             int64\n",
      "Cablemodem       int64\n",
      "Fibra óptica     int64\n",
      "Wireless         int64\n",
      "Otros            int64\n",
      "Total            int64\n",
      "dtype: object\n"
     ]
    }
   ],
   "source": [
    "def limpiar_cadena(cadena):\n",
    "    # Utilizar una expresión regular para encontrar todos los dígitos en la cadena\n",
    "    numeros = re.findall(r'\\d+', str(cadena))\n",
    "    # Si se encontraron dígitos, unirlos en una cadena y convertirla a entero\n",
    "    return int(''.join(numeros)) if numeros else 0\n",
    "\n",
    "# Reemplazar valores no numéricos y NaN por 0 en las columnas antes de la conversión a tipo entero\n",
    "columnas_a_convertir = ['ADSL', 'Cablemodem', 'Fibra óptica', 'Total', 'Wireless', 'Otros']\n",
    "for columna in columnas_a_convertir:\n",
    "    df_provincial_internet_accesos_tecnologia_trim[columna] = df_provincial_internet_accesos_tecnologia_trim[columna].replace(['-', '- 0'], 0)\n",
    "    df_provincial_internet_accesos_tecnologia_trim[columna] = df_provincial_internet_accesos_tecnologia_trim[columna].apply(limpiar_cadena)\n",
    "\n",
    "# Verificar el DataFrame después de la conversión\n",
    "print(df_provincial_internet_accesos_tecnologia_trim.dtypes)"
   ]
  },
  {
   "cell_type": "code",
   "execution_count": 432,
   "metadata": {},
   "outputs": [
    {
     "name": "stdout",
     "output_type": "stream",
     "text": [
      "Año              int64\n",
      "Trimestre        int64\n",
      "Provincia       object\n",
      "ADSL             int64\n",
      "Cablemodem       int64\n",
      "Fibra óptica     int64\n",
      "Wireless         int64\n",
      "Otros            int64\n",
      "Total            int64\n",
      "dtype: object\n"
     ]
    }
   ],
   "source": [
    "def limpiar_cadena(cadena):\n",
    "    # Utilizar una expresión regular para encontrar todos los dígitos en la cadena\n",
    "    numeros = re.findall(r'\\d+', str(cadena))\n",
    "    # Si se encontraron dígitos, unirlos en una cadena y convertirla a entero\n",
    "    return int(''.join(numeros)) if numeros else 0\n",
    "\n",
    "# Limpiar valores en las columnas 'Año' y 'Trimestre'\n",
    "df_provincial_internet_accesos_tecnologia_trim['Año'] = df_provincial_internet_accesos_tecnologia_trim['Año'].apply(limpiar_cadena)\n",
    "df_provincial_internet_accesos_tecnologia_trim['Trimestre'] = df_provincial_internet_accesos_tecnologia_trim['Trimestre'].apply(limpiar_cadena)\n",
    "\n",
    "# Verificar el DataFrame después de la conversión\n",
    "print(df_provincial_internet_accesos_tecnologia_trim.dtypes)"
   ]
  },
  {
   "cell_type": "code",
   "execution_count": 433,
   "metadata": {},
   "outputs": [
    {
     "data": {
      "text/html": [
       "<div>\n",
       "<style scoped>\n",
       "    .dataframe tbody tr th:only-of-type {\n",
       "        vertical-align: middle;\n",
       "    }\n",
       "\n",
       "    .dataframe tbody tr th {\n",
       "        vertical-align: top;\n",
       "    }\n",
       "\n",
       "    .dataframe thead th {\n",
       "        text-align: right;\n",
       "    }\n",
       "</style>\n",
       "<table border=\"1\" class=\"dataframe\">\n",
       "  <thead>\n",
       "    <tr style=\"text-align: right;\">\n",
       "      <th></th>\n",
       "      <th>Año</th>\n",
       "      <th>Trimestre</th>\n",
       "      <th>Provincia</th>\n",
       "      <th>ADSL</th>\n",
       "      <th>Cablemodem</th>\n",
       "      <th>Fibra óptica</th>\n",
       "      <th>Wireless</th>\n",
       "      <th>Otros</th>\n",
       "      <th>Total</th>\n",
       "    </tr>\n",
       "  </thead>\n",
       "  <tbody>\n",
       "    <tr>\n",
       "      <th>0</th>\n",
       "      <td>2022</td>\n",
       "      <td>1</td>\n",
       "      <td>Buenos Aires</td>\n",
       "      <td>392045</td>\n",
       "      <td>2728865</td>\n",
       "      <td>1242121</td>\n",
       "      <td>125521</td>\n",
       "      <td>66872</td>\n",
       "      <td>4555424</td>\n",
       "    </tr>\n",
       "    <tr>\n",
       "      <th>1</th>\n",
       "      <td>2022</td>\n",
       "      <td>1</td>\n",
       "      <td>Capital Federal</td>\n",
       "      <td>102290</td>\n",
       "      <td>1217225</td>\n",
       "      <td>62308</td>\n",
       "      <td>5784</td>\n",
       "      <td>29934</td>\n",
       "      <td>1417541</td>\n",
       "    </tr>\n",
       "    <tr>\n",
       "      <th>2</th>\n",
       "      <td>2022</td>\n",
       "      <td>1</td>\n",
       "      <td>Catamarca</td>\n",
       "      <td>14181</td>\n",
       "      <td>15517</td>\n",
       "      <td>29118</td>\n",
       "      <td>1328</td>\n",
       "      <td>2234</td>\n",
       "      <td>62378</td>\n",
       "    </tr>\n",
       "    <tr>\n",
       "      <th>3</th>\n",
       "      <td>2022</td>\n",
       "      <td>1</td>\n",
       "      <td>Chaco</td>\n",
       "      <td>32391</td>\n",
       "      <td>64546</td>\n",
       "      <td>36662</td>\n",
       "      <td>8164</td>\n",
       "      <td>2356</td>\n",
       "      <td>144119</td>\n",
       "    </tr>\n",
       "    <tr>\n",
       "      <th>4</th>\n",
       "      <td>2022</td>\n",
       "      <td>1</td>\n",
       "      <td>Chubut</td>\n",
       "      <td>44133</td>\n",
       "      <td>66667</td>\n",
       "      <td>9184</td>\n",
       "      <td>30592</td>\n",
       "      <td>21052</td>\n",
       "      <td>171628</td>\n",
       "    </tr>\n",
       "  </tbody>\n",
       "</table>\n",
       "</div>"
      ],
      "text/plain": [
       "    Año  Trimestre        Provincia    ADSL  Cablemodem  Fibra óptica  \\\n",
       "0  2022          1     Buenos Aires  392045     2728865       1242121   \n",
       "1  2022          1  Capital Federal  102290     1217225         62308   \n",
       "2  2022          1        Catamarca   14181       15517         29118   \n",
       "3  2022          1            Chaco   32391       64546         36662   \n",
       "4  2022          1           Chubut   44133       66667          9184   \n",
       "\n",
       "   Wireless  Otros    Total  \n",
       "0    125521  66872  4555424  \n",
       "1      5784  29934  1417541  \n",
       "2      1328   2234    62378  \n",
       "3      8164   2356   144119  \n",
       "4     30592  21052   171628  "
      ]
     },
     "execution_count": 433,
     "metadata": {},
     "output_type": "execute_result"
    }
   ],
   "source": [
    "df_provincial_internet_accesos_tecnologia_trim.head()"
   ]
  },
  {
   "cell_type": "code",
   "execution_count": 434,
   "metadata": {},
   "outputs": [
    {
     "name": "stdout",
     "output_type": "stream",
     "text": [
      "<class 'pandas.core.frame.DataFrame'>\n",
      "RangeIndex: 793 entries, 0 to 792\n",
      "Data columns (total 9 columns):\n",
      " #   Column        Non-Null Count  Dtype \n",
      "---  ------        --------------  ----- \n",
      " 0   Año           793 non-null    int64 \n",
      " 1   Trimestre     793 non-null    int64 \n",
      " 2   Provincia     792 non-null    object\n",
      " 3   ADSL          793 non-null    int64 \n",
      " 4   Cablemodem    793 non-null    int64 \n",
      " 5   Fibra óptica  793 non-null    int64 \n",
      " 6   Wireless      793 non-null    int64 \n",
      " 7   Otros         793 non-null    int64 \n",
      " 8   Total         793 non-null    int64 \n",
      "dtypes: int64(8), object(1)\n",
      "memory usage: 55.9+ KB\n"
     ]
    }
   ],
   "source": [
    "df_provincial_internet_accesos_tecnologia_trim.info()"
   ]
  },
  {
   "cell_type": "markdown",
   "metadata": {},
   "source": [
    "df_provincial_internet_accesos_habitantes_trim"
   ]
  },
  {
   "cell_type": "code",
   "execution_count": 435,
   "metadata": {},
   "outputs": [
    {
     "name": "stdout",
     "output_type": "stream",
     "text": [
      "<class 'pandas.core.frame.DataFrame'>\n",
      "RangeIndex: 792 entries, 0 to 791\n",
      "Data columns (total 4 columns):\n",
      " #   Column                        Non-Null Count  Dtype \n",
      "---  ------                        --------------  ----- \n",
      " 0   Año                           792 non-null    int64 \n",
      " 1   Trimestre                     792 non-null    int64 \n",
      " 2   Provincia                     792 non-null    object\n",
      " 3   Accesos por cada 100 hogares  792 non-null    object\n",
      "dtypes: int64(2), object(2)\n",
      "memory usage: 24.9+ KB\n"
     ]
    }
   ],
   "source": [
    "df_provincial_internet_accesos_habitantes_trim.info()"
   ]
  },
  {
   "cell_type": "code",
   "execution_count": 436,
   "metadata": {},
   "outputs": [],
   "source": [
    "#Cambiar coma a punto\n",
    "df_provincial_internet_accesos_habitantes_trim['Accesos por cada 100 hogares'] = df_provincial_internet_accesos_habitantes_trim['Accesos por cada 100 hogares'].str.replace(',','.')"
   ]
  },
  {
   "cell_type": "code",
   "execution_count": 437,
   "metadata": {},
   "outputs": [
    {
     "name": "stdout",
     "output_type": "stream",
     "text": [
      "Año                               int64\n",
      "Trimestre                         int64\n",
      "Provincia                        object\n",
      "Accesos por cada 100 hogares    float64\n",
      "dtype: object\n"
     ]
    }
   ],
   "source": [
    "#Convertir a tipo float\n",
    "df_provincial_internet_accesos_habitantes_trim['Accesos por cada 100 hogares'] = df_provincial_internet_accesos_habitantes_trim['Accesos por cada 100 hogares'].astype(float)\n",
    "# Verificar el DataFrame después de la conversión\n",
    "print(df_provincial_internet_accesos_habitantes_trim.dtypes)"
   ]
  },
  {
   "cell_type": "code",
   "execution_count": 438,
   "metadata": {},
   "outputs": [
    {
     "data": {
      "text/html": [
       "<div>\n",
       "<style scoped>\n",
       "    .dataframe tbody tr th:only-of-type {\n",
       "        vertical-align: middle;\n",
       "    }\n",
       "\n",
       "    .dataframe tbody tr th {\n",
       "        vertical-align: top;\n",
       "    }\n",
       "\n",
       "    .dataframe thead th {\n",
       "        text-align: right;\n",
       "    }\n",
       "</style>\n",
       "<table border=\"1\" class=\"dataframe\">\n",
       "  <thead>\n",
       "    <tr style=\"text-align: right;\">\n",
       "      <th></th>\n",
       "      <th>Año</th>\n",
       "      <th>Trimestre</th>\n",
       "      <th>Provincia</th>\n",
       "      <th>Accesos por cada 100 hogares</th>\n",
       "    </tr>\n",
       "  </thead>\n",
       "  <tbody>\n",
       "    <tr>\n",
       "      <th>0</th>\n",
       "      <td>2022</td>\n",
       "      <td>1</td>\n",
       "      <td>Buenos Aires</td>\n",
       "      <td>76.08</td>\n",
       "    </tr>\n",
       "    <tr>\n",
       "      <th>1</th>\n",
       "      <td>2022</td>\n",
       "      <td>1</td>\n",
       "      <td>Capital Federal</td>\n",
       "      <td>111.80</td>\n",
       "    </tr>\n",
       "    <tr>\n",
       "      <th>2</th>\n",
       "      <td>2022</td>\n",
       "      <td>1</td>\n",
       "      <td>Catamarca</td>\n",
       "      <td>58.21</td>\n",
       "    </tr>\n",
       "    <tr>\n",
       "      <th>3</th>\n",
       "      <td>2022</td>\n",
       "      <td>1</td>\n",
       "      <td>Chaco</td>\n",
       "      <td>44.06</td>\n",
       "    </tr>\n",
       "    <tr>\n",
       "      <th>4</th>\n",
       "      <td>2022</td>\n",
       "      <td>1</td>\n",
       "      <td>Chubut</td>\n",
       "      <td>88.05</td>\n",
       "    </tr>\n",
       "  </tbody>\n",
       "</table>\n",
       "</div>"
      ],
      "text/plain": [
       "    Año  Trimestre        Provincia  Accesos por cada 100 hogares\n",
       "0  2022          1     Buenos Aires                         76.08\n",
       "1  2022          1  Capital Federal                        111.80\n",
       "2  2022          1        Catamarca                         58.21\n",
       "3  2022          1            Chaco                         44.06\n",
       "4  2022          1           Chubut                         88.05"
      ]
     },
     "execution_count": 438,
     "metadata": {},
     "output_type": "execute_result"
    }
   ],
   "source": [
    "df_provincial_internet_accesos_habitantes_trim.head()"
   ]
  },
  {
   "cell_type": "code",
   "execution_count": 439,
   "metadata": {},
   "outputs": [],
   "source": [
    "# Exportar cada DataFrame a su respectivo archivo CSV en las rutas específicas\n",
    "\n",
    "df_nacional_internet_ingresos_trim.to_csv(r\"data\\output\\Ingresos_trimestrales_prestación_servicio_Internet_fijo_transformado.csv\", index=False)\n",
    "\n",
    "df_nacional_internet_tipo_trim.to_csv(r\"data\\output\\Serie_trimestral_accesos_Internet_fijo_por_tecnología_transformado.csv\", index=False)\n",
    "\n",
    "df_nacional_internet_accesos_velocidad_media_trim.to_csv(r\"data\\output\\Velocidad_Media_de_bajada_Internet_fijo_transformado.csv\", index=False)\n",
    "\n",
    "df_provincial_internet_accesos_tecnologia_trim.to_csv(r\"data\\output\\Acceso_Internet_fijo_por_tecnología_y_provincia_transformado.csv\", index=False)\n",
    "\n",
    "df_provincial_internet_accesos_habitantes_trim.to_csv(r\"data\\output\\Penetración_de _Internet_fijo_(accesos_cada_100_hogares)_transformado.csv\", index=False)\n",
    "\n",
    "df_provincial_internet_accesos_velocidad_media_trim.to_csv(r\"data\\output\\Velocidad_media_bajada_Internet_fijo_por_provincia_transformado.csv\", index=False)"
   ]
  }
 ],
 "metadata": {
  "kernelspec": {
   "display_name": "Python 3",
   "language": "python",
   "name": "python3"
  },
  "language_info": {
   "codemirror_mode": {
    "name": "ipython",
    "version": 3
   },
   "file_extension": ".py",
   "mimetype": "text/x-python",
   "name": "python",
   "nbconvert_exporter": "python",
   "pygments_lexer": "ipython3",
   "version": "3.11.3"
  }
 },
 "nbformat": 4,
 "nbformat_minor": 2
}
